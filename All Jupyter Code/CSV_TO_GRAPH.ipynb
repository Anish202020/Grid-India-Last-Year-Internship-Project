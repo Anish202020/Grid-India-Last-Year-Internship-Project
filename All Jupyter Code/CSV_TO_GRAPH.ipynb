{
 "cells": [
  {
   "cell_type": "code",
   "execution_count": null,
   "id": "95c26e1e-3a6c-46c4-b910-36d7837f5e57",
   "metadata": {},
   "outputs": [],
   "source": [
    "import os\n",
    "import pandas as pd\n",
    "import matplotlib.pyplot as plt\n",
    "import seaborn as sns\n",
    "\n",
    "# Path to the folder containing CSV files\n",
    "csv_folder = 'Signature Fault Clusters Version 2/VRM/VRM Cluster 9'\n",
    "output_folder = 'Signature Fault Clusters Version 2/VRM Graph/VRM Cluster 9'\n",
    "\n",
    "# Ensure the output folder exists\n",
    "os.makedirs(output_folder, exist_ok=True)\n",
    "\n",
    "# Iterate over each CSV file in the folder\n",
    "for filename in os.listdir(csv_folder):\n",
    "    if filename.endswith('.csv'):\n",
    "        file_path = os.path.join(csv_folder, filename)\n",
    "\n",
    "        # Read the CSV file\n",
    "        data = pd.read_csv(file_path)\n",
    "\n",
    "        # Extract the relevant columns\n",
    "        if {'VRM'}.issubset(data.columns):\n",
    "            plt.figure(figsize=(10, 6))\n",
    "\n",
    "            # Plot each voltage series\n",
    "            plt.plot(data.index, data['VRM'], label='VRM (Red Phase Voltage)', color='red')\n",
    "            # plt.plot(data.index, data['VYM'], label='VYM (Yellow Phase Voltage)', color='yellow')\n",
    "            # plt.plot(data.index, data['VBM'], label='VBM (Blue Phase Voltage)', color='blue')\n",
    "\n",
    "            # Adding labels and title\n",
    "            plt.xlabel('Time (Index)')\n",
    "            plt.ylabel('Voltage')\n",
    "            #plt.title(f'Voltage Measurements Over Time - {filename}')\n",
    "            #plt.legend()\n",
    "            plt.grid(True)\n",
    "\n",
    "            # Save the plot to the output folder\n",
    "            plot_filename = os.path.splitext(filename)[0] + '_voltage_plot.png'\n",
    "            plt.savefig(os.path.join(output_folder, plot_filename))\n",
    "            plt.close()\n",
    "\n",
    "        else:\n",
    "            print(f\"Columns VYM, VBM, VRM not found in {filename}\")\n",
    "\n",
    "print(\"Graphs have been generated and stored in the output folder.\")"
   ]
  },
  {
   "cell_type": "code",
   "execution_count": null,
   "id": "cd3b0ccd-b07e-43c6-97eb-1eb5e56bbb7a",
   "metadata": {},
   "outputs": [],
   "source": []
  }
 ],
 "metadata": {
  "kernelspec": {
   "display_name": "Python 3 (ipykernel)",
   "language": "python",
   "name": "python3"
  },
  "language_info": {
   "codemirror_mode": {
    "name": "ipython",
    "version": 3
   },
   "file_extension": ".py",
   "mimetype": "text/x-python",
   "name": "python",
   "nbconvert_exporter": "python",
   "pygments_lexer": "ipython3",
   "version": "3.12.3"
  }
 },
 "nbformat": 4,
 "nbformat_minor": 5
}
