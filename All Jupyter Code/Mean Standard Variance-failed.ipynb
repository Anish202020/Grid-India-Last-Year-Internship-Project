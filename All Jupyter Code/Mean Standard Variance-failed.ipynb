{
 "cells": [
  {
   "cell_type": "code",
   "execution_count": 1,
   "id": "1607da85-78e5-4af8-9c22-9af173a58427",
   "metadata": {},
   "outputs": [],
   "source": [
    "import pandas as pd\n",
    "import numpy as np\n",
    "import os\n",
    "from scipy.fft import fft\n",
    "\n",
    "# Define the input and output directories\n",
    "input_dir = 'testing_data_trial_2'\n",
    "output_dir = 'testing_data_trial_2_with_features'\n",
    "\n",
    "# Ensure output directory exists\n",
    "os.makedirs(output_dir, exist_ok=True)\n",
    "\n",
    "# Process each CSV file\n",
    "for file_name in os.listdir(input_dir):\n",
    "    if file_name.endswith('.csv'):\n",
    "        # Read the CSV file\n",
    "        file_path = os.path.join(input_dir, file_name)\n",
    "        df = pd.read_csv(file_path)\n",
    "\n",
    "        # Extract the VRM column\n",
    "        signal = df['VRM'].values\n",
    "\n",
    "        # Calculate features\n",
    "        mean_value = np.mean(signal)\n",
    "        std_value = np.std(signal)\n",
    "        variance_value = np.var(signal)\n",
    "\n",
    "        # Perform FFT and find the dominant frequency\n",
    "        fft_result = fft(signal)\n",
    "        dominant_frequency_index = np.argmax(np.abs(fft_result))\n",
    "\n",
    "        # Create a new DataFrame\n",
    "        features_df = pd.DataFrame({\n",
    "            'Time Series': np.arange(len(signal)),\n",
    "            'VRM': signal,\n",
    "            'Mean': [mean_value] * len(signal),\n",
    "            'Standard Deviation': [std_value] * len(signal),\n",
    "            'Variance': [variance_value] * len(signal),\n",
    "            'Dominant Frequency Index': [dominant_frequency_index] * len(signal)\n",
    "        })\n",
    "\n",
    "        # Save the new DataFrame to a CSV file\n",
    "        output_file_path = os.path.join(output_dir, f'{file_name}')\n",
    "        features_df.to_csv(output_file_path, index=False)"
   ]
  },
  {
   "cell_type": "code",
   "execution_count": null,
   "id": "3eea04bb-a47c-4e2d-bd24-119135fbc58c",
   "metadata": {},
   "outputs": [],
   "source": []
  }
 ],
 "metadata": {
  "kernelspec": {
   "display_name": "Python 3 (ipykernel)",
   "language": "python",
   "name": "python3"
  },
  "language_info": {
   "codemirror_mode": {
    "name": "ipython",
    "version": 3
   },
   "file_extension": ".py",
   "mimetype": "text/x-python",
   "name": "python",
   "nbconvert_exporter": "python",
   "pygments_lexer": "ipython3",
   "version": "3.12.3"
  }
 },
 "nbformat": 4,
 "nbformat_minor": 5
}
